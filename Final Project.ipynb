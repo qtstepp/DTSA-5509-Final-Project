{
 "cells": [
  {
   "cell_type": "markdown",
   "id": "c9cceb82",
   "metadata": {},
   "source": [
    "This project performs a classification analysis in order to assign customers to appropriate segments. This dataset was found on Kaggle.com, https://www.kaggle.com/datasets/kaushiksuresh147/customer-segmentation/data, and involves a company that is attempting to break into a new market. They believe taht customers in this market will behave similarly to those in their current market and want to assign them to segments as they have their current customers. These customer segments are use to more accurately provide customers with personalized ads. The goal of this project is to use supervised learning techniques to build a model which assigns customers to their respective segments."
   ]
  },
  {
   "cell_type": "code",
   "execution_count": 1,
   "id": "5ff24989",
   "metadata": {},
   "outputs": [],
   "source": [
    "import math\n",
    "import pickle\n",
    "import gzip\n",
    "import numpy as np\n",
    "import matplotlib.pylab as plt\n",
    "%matplotlib inline\n",
    "\n",
    "from math import exp\n",
    "import numpy as np\n",
    "import pandas as pd\n",
    "import sklearn\n",
    "from sklearn.linear_model import LogisticRegression\n",
    "from sklearn.tree import DecisionTreeClassifier\n",
    "from sklearn.model_selection import train_test_split\n",
    "from sklearn.metrics import accuracy_score, precision_score, recall_score\n",
    "from sklearn.base import clone\n",
    "from sklearn.ensemble import AdaBoostClassifier, RandomForestClassifier\n",
    "from sklearn.preprocessing import LabelEncoder, StandardScaler\n",
    "import matplotlib.pyplot as plt\n",
    "import operator"
   ]
  },
  {
   "cell_type": "markdown",
   "id": "b445ced8",
   "metadata": {},
   "source": [
    "### Importing data"
   ]
  },
  {
   "cell_type": "code",
   "execution_count": 3,
   "id": "82b80c25",
   "metadata": {},
   "outputs": [
    {
     "data": {
      "text/html": [
       "<div>\n",
       "<style scoped>\n",
       "    .dataframe tbody tr th:only-of-type {\n",
       "        vertical-align: middle;\n",
       "    }\n",
       "\n",
       "    .dataframe tbody tr th {\n",
       "        vertical-align: top;\n",
       "    }\n",
       "\n",
       "    .dataframe thead th {\n",
       "        text-align: right;\n",
       "    }\n",
       "</style>\n",
       "<table border=\"1\" class=\"dataframe\">\n",
       "  <thead>\n",
       "    <tr style=\"text-align: right;\">\n",
       "      <th></th>\n",
       "      <th>ID</th>\n",
       "      <th>Gender</th>\n",
       "      <th>Ever_Married</th>\n",
       "      <th>Age</th>\n",
       "      <th>Graduated</th>\n",
       "      <th>Profession</th>\n",
       "      <th>Work_Experience</th>\n",
       "      <th>Spending_Score</th>\n",
       "      <th>Family_Size</th>\n",
       "      <th>Var_1</th>\n",
       "      <th>Segmentation</th>\n",
       "    </tr>\n",
       "  </thead>\n",
       "  <tbody>\n",
       "    <tr>\n",
       "      <th>0</th>\n",
       "      <td>462809</td>\n",
       "      <td>Male</td>\n",
       "      <td>No</td>\n",
       "      <td>22</td>\n",
       "      <td>No</td>\n",
       "      <td>Healthcare</td>\n",
       "      <td>1.0</td>\n",
       "      <td>Low</td>\n",
       "      <td>4.0</td>\n",
       "      <td>Cat_4</td>\n",
       "      <td>D</td>\n",
       "    </tr>\n",
       "    <tr>\n",
       "      <th>1</th>\n",
       "      <td>462643</td>\n",
       "      <td>Female</td>\n",
       "      <td>Yes</td>\n",
       "      <td>38</td>\n",
       "      <td>Yes</td>\n",
       "      <td>Engineer</td>\n",
       "      <td>NaN</td>\n",
       "      <td>Average</td>\n",
       "      <td>3.0</td>\n",
       "      <td>Cat_4</td>\n",
       "      <td>A</td>\n",
       "    </tr>\n",
       "    <tr>\n",
       "      <th>2</th>\n",
       "      <td>466315</td>\n",
       "      <td>Female</td>\n",
       "      <td>Yes</td>\n",
       "      <td>67</td>\n",
       "      <td>Yes</td>\n",
       "      <td>Engineer</td>\n",
       "      <td>1.0</td>\n",
       "      <td>Low</td>\n",
       "      <td>1.0</td>\n",
       "      <td>Cat_6</td>\n",
       "      <td>B</td>\n",
       "    </tr>\n",
       "    <tr>\n",
       "      <th>3</th>\n",
       "      <td>461735</td>\n",
       "      <td>Male</td>\n",
       "      <td>Yes</td>\n",
       "      <td>67</td>\n",
       "      <td>Yes</td>\n",
       "      <td>Lawyer</td>\n",
       "      <td>0.0</td>\n",
       "      <td>High</td>\n",
       "      <td>2.0</td>\n",
       "      <td>Cat_6</td>\n",
       "      <td>B</td>\n",
       "    </tr>\n",
       "    <tr>\n",
       "      <th>4</th>\n",
       "      <td>462669</td>\n",
       "      <td>Female</td>\n",
       "      <td>Yes</td>\n",
       "      <td>40</td>\n",
       "      <td>Yes</td>\n",
       "      <td>Entertainment</td>\n",
       "      <td>NaN</td>\n",
       "      <td>High</td>\n",
       "      <td>6.0</td>\n",
       "      <td>Cat_6</td>\n",
       "      <td>A</td>\n",
       "    </tr>\n",
       "    <tr>\n",
       "      <th>5</th>\n",
       "      <td>461319</td>\n",
       "      <td>Male</td>\n",
       "      <td>Yes</td>\n",
       "      <td>56</td>\n",
       "      <td>No</td>\n",
       "      <td>Artist</td>\n",
       "      <td>0.0</td>\n",
       "      <td>Average</td>\n",
       "      <td>2.0</td>\n",
       "      <td>Cat_6</td>\n",
       "      <td>C</td>\n",
       "    </tr>\n",
       "    <tr>\n",
       "      <th>6</th>\n",
       "      <td>460156</td>\n",
       "      <td>Male</td>\n",
       "      <td>No</td>\n",
       "      <td>32</td>\n",
       "      <td>Yes</td>\n",
       "      <td>Healthcare</td>\n",
       "      <td>1.0</td>\n",
       "      <td>Low</td>\n",
       "      <td>3.0</td>\n",
       "      <td>Cat_6</td>\n",
       "      <td>C</td>\n",
       "    </tr>\n",
       "    <tr>\n",
       "      <th>7</th>\n",
       "      <td>464347</td>\n",
       "      <td>Female</td>\n",
       "      <td>No</td>\n",
       "      <td>33</td>\n",
       "      <td>Yes</td>\n",
       "      <td>Healthcare</td>\n",
       "      <td>1.0</td>\n",
       "      <td>Low</td>\n",
       "      <td>3.0</td>\n",
       "      <td>Cat_6</td>\n",
       "      <td>D</td>\n",
       "    </tr>\n",
       "    <tr>\n",
       "      <th>8</th>\n",
       "      <td>465015</td>\n",
       "      <td>Female</td>\n",
       "      <td>Yes</td>\n",
       "      <td>61</td>\n",
       "      <td>Yes</td>\n",
       "      <td>Engineer</td>\n",
       "      <td>0.0</td>\n",
       "      <td>Low</td>\n",
       "      <td>3.0</td>\n",
       "      <td>Cat_7</td>\n",
       "      <td>D</td>\n",
       "    </tr>\n",
       "    <tr>\n",
       "      <th>9</th>\n",
       "      <td>465176</td>\n",
       "      <td>Female</td>\n",
       "      <td>Yes</td>\n",
       "      <td>55</td>\n",
       "      <td>Yes</td>\n",
       "      <td>Artist</td>\n",
       "      <td>1.0</td>\n",
       "      <td>Average</td>\n",
       "      <td>4.0</td>\n",
       "      <td>Cat_6</td>\n",
       "      <td>C</td>\n",
       "    </tr>\n",
       "    <tr>\n",
       "      <th>10</th>\n",
       "      <td>464041</td>\n",
       "      <td>Female</td>\n",
       "      <td>No</td>\n",
       "      <td>26</td>\n",
       "      <td>Yes</td>\n",
       "      <td>Engineer</td>\n",
       "      <td>1.0</td>\n",
       "      <td>Low</td>\n",
       "      <td>3.0</td>\n",
       "      <td>Cat_6</td>\n",
       "      <td>A</td>\n",
       "    </tr>\n",
       "    <tr>\n",
       "      <th>11</th>\n",
       "      <td>464942</td>\n",
       "      <td>Male</td>\n",
       "      <td>No</td>\n",
       "      <td>19</td>\n",
       "      <td>No</td>\n",
       "      <td>Healthcare</td>\n",
       "      <td>4.0</td>\n",
       "      <td>Low</td>\n",
       "      <td>4.0</td>\n",
       "      <td>Cat_4</td>\n",
       "      <td>D</td>\n",
       "    </tr>\n",
       "    <tr>\n",
       "      <th>12</th>\n",
       "      <td>461230</td>\n",
       "      <td>Female</td>\n",
       "      <td>No</td>\n",
       "      <td>19</td>\n",
       "      <td>No</td>\n",
       "      <td>Executive</td>\n",
       "      <td>0.0</td>\n",
       "      <td>Low</td>\n",
       "      <td>NaN</td>\n",
       "      <td>Cat_3</td>\n",
       "      <td>D</td>\n",
       "    </tr>\n",
       "    <tr>\n",
       "      <th>13</th>\n",
       "      <td>459573</td>\n",
       "      <td>Male</td>\n",
       "      <td>Yes</td>\n",
       "      <td>70</td>\n",
       "      <td>No</td>\n",
       "      <td>Lawyer</td>\n",
       "      <td>NaN</td>\n",
       "      <td>Low</td>\n",
       "      <td>1.0</td>\n",
       "      <td>Cat_6</td>\n",
       "      <td>A</td>\n",
       "    </tr>\n",
       "    <tr>\n",
       "      <th>14</th>\n",
       "      <td>460849</td>\n",
       "      <td>Female</td>\n",
       "      <td>Yes</td>\n",
       "      <td>58</td>\n",
       "      <td>No</td>\n",
       "      <td>Doctor</td>\n",
       "      <td>0.0</td>\n",
       "      <td>Low</td>\n",
       "      <td>1.0</td>\n",
       "      <td>Cat_3</td>\n",
       "      <td>B</td>\n",
       "    </tr>\n",
       "    <tr>\n",
       "      <th>15</th>\n",
       "      <td>460563</td>\n",
       "      <td>Female</td>\n",
       "      <td>No</td>\n",
       "      <td>41</td>\n",
       "      <td>No</td>\n",
       "      <td>Healthcare</td>\n",
       "      <td>1.0</td>\n",
       "      <td>Low</td>\n",
       "      <td>2.0</td>\n",
       "      <td>Cat_1</td>\n",
       "      <td>C</td>\n",
       "    </tr>\n",
       "    <tr>\n",
       "      <th>16</th>\n",
       "      <td>466865</td>\n",
       "      <td>Female</td>\n",
       "      <td>No</td>\n",
       "      <td>32</td>\n",
       "      <td>No</td>\n",
       "      <td>Homemaker</td>\n",
       "      <td>9.0</td>\n",
       "      <td>Low</td>\n",
       "      <td>5.0</td>\n",
       "      <td>Cat_3</td>\n",
       "      <td>D</td>\n",
       "    </tr>\n",
       "    <tr>\n",
       "      <th>17</th>\n",
       "      <td>461644</td>\n",
       "      <td>Male</td>\n",
       "      <td>No</td>\n",
       "      <td>31</td>\n",
       "      <td>No</td>\n",
       "      <td>Healthcare</td>\n",
       "      <td>1.0</td>\n",
       "      <td>Low</td>\n",
       "      <td>6.0</td>\n",
       "      <td>Cat_6</td>\n",
       "      <td>B</td>\n",
       "    </tr>\n",
       "    <tr>\n",
       "      <th>18</th>\n",
       "      <td>466772</td>\n",
       "      <td>Male</td>\n",
       "      <td>Yes</td>\n",
       "      <td>58</td>\n",
       "      <td>Yes</td>\n",
       "      <td>Entertainment</td>\n",
       "      <td>1.0</td>\n",
       "      <td>Average</td>\n",
       "      <td>4.0</td>\n",
       "      <td>Cat_6</td>\n",
       "      <td>B</td>\n",
       "    </tr>\n",
       "    <tr>\n",
       "      <th>19</th>\n",
       "      <td>464291</td>\n",
       "      <td>Female</td>\n",
       "      <td>Yes</td>\n",
       "      <td>79</td>\n",
       "      <td>Yes</td>\n",
       "      <td>Artist</td>\n",
       "      <td>0.0</td>\n",
       "      <td>High</td>\n",
       "      <td>1.0</td>\n",
       "      <td>Cat_6</td>\n",
       "      <td>C</td>\n",
       "    </tr>\n",
       "  </tbody>\n",
       "</table>\n",
       "</div>"
      ],
      "text/plain": [
       "        ID  Gender Ever_Married  Age Graduated     Profession  \\\n",
       "0   462809    Male           No   22        No     Healthcare   \n",
       "1   462643  Female          Yes   38       Yes       Engineer   \n",
       "2   466315  Female          Yes   67       Yes       Engineer   \n",
       "3   461735    Male          Yes   67       Yes         Lawyer   \n",
       "4   462669  Female          Yes   40       Yes  Entertainment   \n",
       "5   461319    Male          Yes   56        No         Artist   \n",
       "6   460156    Male           No   32       Yes     Healthcare   \n",
       "7   464347  Female           No   33       Yes     Healthcare   \n",
       "8   465015  Female          Yes   61       Yes       Engineer   \n",
       "9   465176  Female          Yes   55       Yes         Artist   \n",
       "10  464041  Female           No   26       Yes       Engineer   \n",
       "11  464942    Male           No   19        No     Healthcare   \n",
       "12  461230  Female           No   19        No      Executive   \n",
       "13  459573    Male          Yes   70        No         Lawyer   \n",
       "14  460849  Female          Yes   58        No         Doctor   \n",
       "15  460563  Female           No   41        No     Healthcare   \n",
       "16  466865  Female           No   32        No      Homemaker   \n",
       "17  461644    Male           No   31        No     Healthcare   \n",
       "18  466772    Male          Yes   58       Yes  Entertainment   \n",
       "19  464291  Female          Yes   79       Yes         Artist   \n",
       "\n",
       "    Work_Experience Spending_Score  Family_Size  Var_1 Segmentation  \n",
       "0               1.0            Low          4.0  Cat_4            D  \n",
       "1               NaN        Average          3.0  Cat_4            A  \n",
       "2               1.0            Low          1.0  Cat_6            B  \n",
       "3               0.0           High          2.0  Cat_6            B  \n",
       "4               NaN           High          6.0  Cat_6            A  \n",
       "5               0.0        Average          2.0  Cat_6            C  \n",
       "6               1.0            Low          3.0  Cat_6            C  \n",
       "7               1.0            Low          3.0  Cat_6            D  \n",
       "8               0.0            Low          3.0  Cat_7            D  \n",
       "9               1.0        Average          4.0  Cat_6            C  \n",
       "10              1.0            Low          3.0  Cat_6            A  \n",
       "11              4.0            Low          4.0  Cat_4            D  \n",
       "12              0.0            Low          NaN  Cat_3            D  \n",
       "13              NaN            Low          1.0  Cat_6            A  \n",
       "14              0.0            Low          1.0  Cat_3            B  \n",
       "15              1.0            Low          2.0  Cat_1            C  \n",
       "16              9.0            Low          5.0  Cat_3            D  \n",
       "17              1.0            Low          6.0  Cat_6            B  \n",
       "18              1.0        Average          4.0  Cat_6            B  \n",
       "19              0.0           High          1.0  Cat_6            C  "
      ]
     },
     "execution_count": 3,
     "metadata": {},
     "output_type": "execute_result"
    }
   ],
   "source": [
    "data = pd.read_csv('Train.csv')\n",
    "data.head(20)"
   ]
  },
  {
   "cell_type": "markdown",
   "id": "0e1161f9",
   "metadata": {},
   "source": [
    "### Exploratory Data Analysis"
   ]
  },
  {
   "cell_type": "code",
   "execution_count": 6,
   "id": "59e146ad",
   "metadata": {},
   "outputs": [
    {
     "name": "stdout",
     "output_type": "stream",
     "text": [
      "<class 'pandas.core.frame.DataFrame'>\n",
      "RangeIndex: 8068 entries, 0 to 8067\n",
      "Data columns (total 11 columns):\n",
      " #   Column           Non-Null Count  Dtype  \n",
      "---  ------           --------------  -----  \n",
      " 0   ID               8068 non-null   int64  \n",
      " 1   Gender           8068 non-null   object \n",
      " 2   Ever_Married     7928 non-null   object \n",
      " 3   Age              8068 non-null   int64  \n",
      " 4   Graduated        7990 non-null   object \n",
      " 5   Profession       7944 non-null   object \n",
      " 6   Work_Experience  7239 non-null   float64\n",
      " 7   Spending_Score   8068 non-null   object \n",
      " 8   Family_Size      7733 non-null   float64\n",
      " 9   Var_1            7992 non-null   object \n",
      " 10  Segmentation     8068 non-null   object \n",
      "dtypes: float64(2), int64(2), object(7)\n",
      "memory usage: 693.5+ KB\n"
     ]
    },
    {
     "data": {
      "text/plain": [
       "ID                   0\n",
       "Gender               0\n",
       "Ever_Married       140\n",
       "Age                  0\n",
       "Graduated           78\n",
       "Profession         124\n",
       "Work_Experience    829\n",
       "Spending_Score       0\n",
       "Family_Size        335\n",
       "Var_1               76\n",
       "Segmentation         0\n",
       "dtype: int64"
      ]
     },
     "execution_count": 6,
     "metadata": {},
     "output_type": "execute_result"
    }
   ],
   "source": [
    "data.info()\n",
    "data.isna().sum()"
   ]
  },
  {
   "cell_type": "code",
   "execution_count": 8,
   "id": "e7cdf950-42a5-440b-a1c4-36a4e5211918",
   "metadata": {},
   "outputs": [
    {
     "name": "stdout",
     "output_type": "stream",
     "text": [
      "Index(['ID', 'Gender', 'Ever_Married', 'Age', 'Graduated', 'Profession',\n",
      "       'Work_Experience', 'Spending_Score', 'Family_Size', 'Var_1',\n",
      "       'Segmentation'],\n",
      "      dtype='object')\n"
     ]
    }
   ],
   "source": [
    "print(data.columns)"
   ]
  },
  {
   "cell_type": "code",
   "execution_count": 10,
   "id": "bb0764df",
   "metadata": {},
   "outputs": [],
   "source": [
    "data['Work_Experience'].value_counts()[0]\n",
    "data = data.dropna()"
   ]
  },
  {
   "cell_type": "code",
   "execution_count": 12,
   "id": "678a7bc8",
   "metadata": {},
   "outputs": [
    {
     "data": {
      "image/png": "[encoded data removed]",
      "text/plain": [
       "<Figure size 640x480 with 6 Axes>"
      ]
     },
     "metadata": {},
     "output_type": "display_data"
    }
   ],
   "source": [
    "fig, axs = plt.subplots(2,3, sharey = False, tight_layout = True)\n",
    "axs[0,0].hist(data['Gender'], bins = 2)\n",
    "axs[0,0].set_title('Gender')\n",
    "axs[0,1].bar(['Yes', 'No'], data['Ever_Married'].value_counts())\n",
    "axs[0,1].set_title('Ever_Married')\n",
    "axs[0,2].hist(data['Age'], bins = 10)\n",
    "axs[0,2].set_title('Age')\n",
    "axs[1,0].bar(['Yes', 'No'], data['Graduated'].value_counts())\n",
    "axs[1,0].set_title('Graduated')\n",
    "axs[1,1].hist(data['Work_Experience'], bins = 8)\n",
    "axs[1,1].set_title('Work_Experience')\n",
    "axs[1,2].bar(['Low', 'Average', 'High'], data['Spending_Score'].value_counts())\n",
    "axs[1,2].set_title('Spending_Score')\n",
    "plt.show()"
   ]
  },
  {
   "cell_type": "code",
   "execution_count": 14,
   "id": "0c06f3ce",
   "metadata": {},
   "outputs": [],
   "source": [
    "data['Gender'] = LabelEncoder().fit_transform(data['Gender'])\n",
    "data['Ever_Married'] = LabelEncoder().fit_transform(data['Ever_Married'])\n",
    "data['Graduated'] = LabelEncoder().fit_transform(data['Graduated'])\n",
    "data['Profession'] = LabelEncoder().fit_transform(data['Profession'])\n",
    "data['Spending_Score'] = LabelEncoder().fit_transform(data['Spending_Score'])\n",
    "data['Var_1'] = LabelEncoder().fit_transform(data['Var_1'])\n",
    "data['Segmentation'] = LabelEncoder().fit_transform(data['Segmentation'])\n",
    "#var_1 = pd.get_dummies(data['Var_1'], drop_first = True)"
   ]
  },
  {
   "cell_type": "code",
   "execution_count": 16,
   "id": "841198cb",
   "metadata": {},
   "outputs": [
    {
     "data": {
      "text/html": [
       "<div>\n",
       "<style scoped>\n",
       "    .dataframe tbody tr th:only-of-type {\n",
       "        vertical-align: middle;\n",
       "    }\n",
       "\n",
       "    .dataframe tbody tr th {\n",
       "        vertical-align: top;\n",
       "    }\n",
       "\n",
       "    .dataframe thead th {\n",
       "        text-align: right;\n",
       "    }\n",
       "</style>\n",
       "<table border=\"1\" class=\"dataframe\">\n",
       "  <thead>\n",
       "    <tr style=\"text-align: right;\">\n",
       "      <th></th>\n",
       "      <th>ID</th>\n",
       "      <th>Gender</th>\n",
       "      <th>Ever_Married</th>\n",
       "      <th>Age</th>\n",
       "      <th>Graduated</th>\n",
       "      <th>Profession</th>\n",
       "      <th>Work_Experience</th>\n",
       "      <th>Spending_Score</th>\n",
       "      <th>Family_Size</th>\n",
       "      <th>Var_1</th>\n",
       "      <th>Segmentation</th>\n",
       "    </tr>\n",
       "  </thead>\n",
       "  <tbody>\n",
       "    <tr>\n",
       "      <th>0</th>\n",
       "      <td>462809</td>\n",
       "      <td>1</td>\n",
       "      <td>0</td>\n",
       "      <td>22</td>\n",
       "      <td>0</td>\n",
       "      <td>5</td>\n",
       "      <td>1.0</td>\n",
       "      <td>2</td>\n",
       "      <td>4.0</td>\n",
       "      <td>3</td>\n",
       "      <td>3</td>\n",
       "    </tr>\n",
       "    <tr>\n",
       "      <th>2</th>\n",
       "      <td>466315</td>\n",
       "      <td>0</td>\n",
       "      <td>1</td>\n",
       "      <td>67</td>\n",
       "      <td>1</td>\n",
       "      <td>2</td>\n",
       "      <td>1.0</td>\n",
       "      <td>2</td>\n",
       "      <td>1.0</td>\n",
       "      <td>5</td>\n",
       "      <td>1</td>\n",
       "    </tr>\n",
       "    <tr>\n",
       "      <th>3</th>\n",
       "      <td>461735</td>\n",
       "      <td>1</td>\n",
       "      <td>1</td>\n",
       "      <td>67</td>\n",
       "      <td>1</td>\n",
       "      <td>7</td>\n",
       "      <td>0.0</td>\n",
       "      <td>1</td>\n",
       "      <td>2.0</td>\n",
       "      <td>5</td>\n",
       "      <td>1</td>\n",
       "    </tr>\n",
       "    <tr>\n",
       "      <th>5</th>\n",
       "      <td>461319</td>\n",
       "      <td>1</td>\n",
       "      <td>1</td>\n",
       "      <td>56</td>\n",
       "      <td>0</td>\n",
       "      <td>0</td>\n",
       "      <td>0.0</td>\n",
       "      <td>0</td>\n",
       "      <td>2.0</td>\n",
       "      <td>5</td>\n",
       "      <td>2</td>\n",
       "    </tr>\n",
       "    <tr>\n",
       "      <th>6</th>\n",
       "      <td>460156</td>\n",
       "      <td>1</td>\n",
       "      <td>0</td>\n",
       "      <td>32</td>\n",
       "      <td>1</td>\n",
       "      <td>5</td>\n",
       "      <td>1.0</td>\n",
       "      <td>2</td>\n",
       "      <td>3.0</td>\n",
       "      <td>5</td>\n",
       "      <td>2</td>\n",
       "    </tr>\n",
       "  </tbody>\n",
       "</table>\n",
       "</div>"
      ],
      "text/plain": [
       "       ID  Gender  Ever_Married  Age  Graduated  Profession  Work_Experience  \\\n",
       "0  462809       1             0   22          0           5              1.0   \n",
       "2  466315       0             1   67          1           2              1.0   \n",
       "3  461735       1             1   67          1           7              0.0   \n",
       "5  461319       1             1   56          0           0              0.0   \n",
       "6  460156       1             0   32          1           5              1.0   \n",
       "\n",
       "   Spending_Score  Family_Size  Var_1  Segmentation  \n",
       "0               2          4.0      3             3  \n",
       "2               2          1.0      5             1  \n",
       "3               1          2.0      5             1  \n",
       "5               0          2.0      5             2  \n",
       "6               2          3.0      5             2  "
      ]
     },
     "execution_count": 16,
     "metadata": {},
     "output_type": "execute_result"
    }
   ],
   "source": [
    "data.head()"
   ]
  },
  {
   "cell_type": "code",
   "execution_count": 19,
   "id": "1126143c",
   "metadata": {},
   "outputs": [
    {
     "name": "stdout",
     "output_type": "stream",
     "text": [
      "<class 'pandas.core.frame.DataFrame'>\n",
      "Index: 6665 entries, 0 to 8067\n",
      "Data columns (total 11 columns):\n",
      " #   Column           Non-Null Count  Dtype  \n",
      "---  ------           --------------  -----  \n",
      " 0   ID               6665 non-null   int64  \n",
      " 1   Gender           6665 non-null   int32  \n",
      " 2   Ever_Married     6665 non-null   int32  \n",
      " 3   Age              6665 non-null   int64  \n",
      " 4   Graduated        6665 non-null   int32  \n",
      " 5   Profession       6665 non-null   int32  \n",
      " 6   Work_Experience  6665 non-null   float64\n",
      " 7   Spending_Score   6665 non-null   int32  \n",
      " 8   Family_Size      6665 non-null   float64\n",
      " 9   Var_1            6665 non-null   int32  \n",
      " 10  Segmentation     6665 non-null   int32  \n",
      "dtypes: float64(2), int32(7), int64(2)\n",
      "memory usage: 442.6 KB\n"
     ]
    },
    {
     "data": {
      "text/plain": [
       "Segmentation\n",
       "3    1757\n",
       "2    1720\n",
       "0    1616\n",
       "1    1572\n",
       "Name: count, dtype: int64"
      ]
     },
     "execution_count": 19,
     "metadata": {},
     "output_type": "execute_result"
    }
   ],
   "source": [
    "data.info()\n",
    "data['Segmentation'].value_counts()"
   ]
  },
  {
   "cell_type": "code",
   "execution_count": 67,
   "id": "cb416c10-b8bc-4b1a-b936-469e47abe175",
   "metadata": {},
   "outputs": [],
   "source": [
    "scaler = StandardScaler()\n",
    "scaler.fit(data)\n",
    "scaled_df = pd.DataFrame(scaler.transform(data), columns = data.columns)"
   ]
  },
  {
   "cell_type": "markdown",
   "id": "4d8a3f91",
   "metadata": {},
   "source": [
    "### Train Test Split"
   ]
  },
  {
   "cell_type": "code",
   "execution_count": 70,
   "id": "94e778ad",
   "metadata": {},
   "outputs": [
    {
     "name": "stdout",
     "output_type": "stream",
     "text": [
      "5332 1333\n"
     ]
    }
   ],
   "source": [
    "X = scaled_df.drop(['Segmentation'], axis = 1).values\n",
    "y = np.ravel(data[['Segmentation']].values)\n",
    "X_train, X_test, y_train, y_test = train_test_split(X, y, test_size = 0.2)\n",
    "print(len(X_train), len(X_test))"
   ]
  },
  {
   "cell_type": "markdown",
   "id": "86572264",
   "metadata": {},
   "source": [
    "### Logistic Regression Model"
   ]
  },
  {
   "cell_type": "code",
   "execution_count": 73,
   "id": "2cd7a067",
   "metadata": {},
   "outputs": [
    {
     "name": "stderr",
     "output_type": "stream",
     "text": [
      "C:\\Users\\devan\\anaconda3\\Lib\\site-packages\\sklearn\\linear_model\\_logistic.py:1247: FutureWarning: 'multi_class' was deprecated in version 1.5 and will be removed in 1.7. From then on, it will always use 'multinomial'. Leave it to its default value to avoid this warning.\n",
      "  warnings.warn(\n"
     ]
    }
   ],
   "source": [
    "LogReg = LogisticRegression(class_weight = 'balanced', multi_class = 'multinomial', solver = 'lbfgs').fit(X_train, y_train)\n",
    "y_hat_LogReg = LogReg.predict(X_test)"
   ]
  },
  {
   "cell_type": "code",
   "execution_count": 75,
   "id": "79a85210",
   "metadata": {},
   "outputs": [
    {
     "data": {
      "image/png": "[encoded data removed]",
      "text/plain": [
       "<Figure size 640x480 with 1 Axes>"
      ]
     },
     "metadata": {},
     "output_type": "display_data"
    }
   ],
   "source": [
    "temp = pd.DataFrame(y_hat_LogReg)\n",
    "temp.value_counts().plot(kind = 'bar')\n",
    "plt.xlabel('Segment')\n",
    "plt.ylabel('Count')\n",
    "plt.title('Value Counts')\n",
    "plt.show()"
   ]
  },
  {
   "cell_type": "code",
   "execution_count": 77,
   "id": "cf31f22e",
   "metadata": {},
   "outputs": [
    {
     "data": {
      "text/plain": [
       "0.5041260315078769"
      ]
     },
     "execution_count": 77,
     "metadata": {},
     "output_type": "execute_result"
    }
   ],
   "source": [
    "sklearn.metrics.accuracy_score(y_hat_LogReg, y_test)"
   ]
  },
  {
   "cell_type": "markdown",
   "id": "f77a5c4e",
   "metadata": {},
   "source": [
    "### KNN"
   ]
  },
  {
   "cell_type": "code",
   "execution_count": 80,
   "id": "7a380b55",
   "metadata": {},
   "outputs": [],
   "source": [
    "class KNN:\n",
    "   \n",
    "    def __init__(self, x_train, y_train, K=5):\n",
    "       \n",
    "        from sklearn.neighbors import BallTree\n",
    "        self.balltree = BallTree(x_train)\n",
    "        self.y_train = y_train\n",
    "        self.K = K \n",
    "        \n",
    "    def majority(self, neighbor_indices, neighbor_distances=None):\n",
    "        \n",
    "        neighbors = self.y_train[neighbor_indices]\n",
    "        labels, count = np.unique(neighbors, return_counts = True)\n",
    "        \n",
    "        for k in range(self.K, 0, -1):\n",
    "            if len(count) > len(np.unique(count)):\n",
    "                neighbors = neighbors[:-1]\n",
    "                labels, count = np.unique(neighbors, return_counts = True)\n",
    "            else:\n",
    "                break\n",
    "                \n",
    "        label_counts = dict(zip(labels, count))\n",
    "        majority = max(label_counts, key = label_counts.get)\n",
    "        \n",
    "        return np.array(majority)\n",
    "        \n",
    "    def classify(self, x):\n",
    "    \n",
    "        dist, ind = self.balltree.query([x], self.K)\n",
    "        return self.majority(ind[0], neighbor_distances = dist)\n",
    "        \n",
    "    def predict(self, X):\n",
    "       \n",
    "        pred = [self.classify(point) for point in X]\n",
    "        return np.array(pred)"
   ]
  },
  {
   "cell_type": "code",
   "execution_count": 82,
   "id": "34a27f74",
   "metadata": {},
   "outputs": [],
   "source": [
    "knn_test = KNN(X_train, y_train, K = 6)"
   ]
  },
  {
   "cell_type": "code",
   "execution_count": 84,
   "id": "61f9ebe7",
   "metadata": {},
   "outputs": [],
   "source": [
    "y_hat_KNN = knn_test.predict(X_test)"
   ]
  },
  {
   "cell_type": "code",
   "execution_count": 86,
   "id": "60ddaa1b",
   "metadata": {},
   "outputs": [
    {
     "data": {
      "text/plain": [
       "0.45911477869467365"
      ]
     },
     "execution_count": 86,
     "metadata": {},
     "output_type": "execute_result"
    }
   ],
   "source": [
    "sklearn.metrics.accuracy_score(y_hat_KNN, y_test)"
   ]
  },
  {
   "cell_type": "code",
   "execution_count": 88,
   "id": "6673579e",
   "metadata": {},
   "outputs": [],
   "source": [
    "def k_values(n):\n",
    "    accuracy = []\n",
    "    precision = []\n",
    "    recall = []\n",
    "    for i in range(1,n):\n",
    "        knn = KNN(X_train, y_train, K = i)\n",
    "        y_hat = knn.predict(X_test)\n",
    "        accuracy.append(sklearn.metrics.accuracy_score(y_hat, y_test))\n",
    "    return accuracy"
   ]
  },
  {
   "cell_type": "code",
   "execution_count": 90,
   "id": "04c701d5",
   "metadata": {},
   "outputs": [],
   "source": [
    "acc = k_values(30)"
   ]
  },
  {
   "cell_type": "code",
   "execution_count": 98,
   "id": "9f4ff790",
   "metadata": {},
   "outputs": [
    {
     "data": {
      "image/png": "[encoded data removed]",
      "text/plain": [
       "<Figure size 640x480 with 1 Axes>"
      ]
     },
     "metadata": {},
     "output_type": "display_data"
    }
   ],
   "source": [
    "plt.plot(acc)\n",
    "plt.xlabel('k Value')\n",
    "plt.ylabel('Accuracy Score')\n",
    "plt.title('Performance of k Values')\n",
    "plt.show()"
   ]
  },
  {
   "cell_type": "code",
   "execution_count": 100,
   "id": "c01875cc",
   "metadata": {},
   "outputs": [
    {
     "data": {
      "text/plain": [
       "0.4981245311327832"
      ]
     },
     "execution_count": 100,
     "metadata": {},
     "output_type": "execute_result"
    }
   ],
   "source": [
    "max(acc)"
   ]
  },
  {
   "cell_type": "code",
   "execution_count": 102,
   "id": "eb1c0e24",
   "metadata": {},
   "outputs": [
    {
     "data": {
      "text/plain": [
       "19"
      ]
     },
     "execution_count": 102,
     "metadata": {},
     "output_type": "execute_result"
    }
   ],
   "source": [
    "acc.index(max(acc))"
   ]
  },
  {
   "cell_type": "markdown",
   "id": "1cf8d002-40e8-4a1a-8f07-a8126621c471",
   "metadata": {},
   "source": [
    "### Decision Tree Classifier"
   ]
  },
  {
   "cell_type": "code",
   "execution_count": 105,
   "id": "2bdf1649-4c4c-41ac-b87e-739c0b0d132a",
   "metadata": {},
   "outputs": [],
   "source": [
    "def build_tree(X, y, max_depth, max_leaf_nodes):\n",
    "    clf = DecisionTreeClassifier(max_depth = max_depth, max_leaf_nodes = max_leaf_nodes).fit(X, y)\n",
    "    return clf"
   ]
  },
  {
   "cell_type": "code",
   "execution_count": 107,
   "id": "fb844ae4-c18e-49f4-a15d-26361cc455b2",
   "metadata": {},
   "outputs": [],
   "source": [
    "depths = range(1,15)\n",
    "leaves = range(2,15)\n",
    "def best_params(depth, leaves):\n",
    "    acc = []\n",
    "    for d in depths:\n",
    "        for l in leaves:\n",
    "            pred = build_tree(X_train, y_train, d, l).predict(X_test)\n",
    "            acc.append(((d, l), accuracy_score(pred, y_test)))\n",
    "    return acc"
   ]
  },
  {
   "cell_type": "code",
   "execution_count": 109,
   "id": "6e8ba739-2564-4f69-8e72-aef4223dd767",
   "metadata": {},
   "outputs": [],
   "source": [
    "params = best_params(depths, leaves)"
   ]
  },
  {
   "cell_type": "code",
   "execution_count": 111,
   "id": "e48da9ce-3aa6-486c-b637-d038d9871469",
   "metadata": {},
   "outputs": [
    {
     "data": {
      "text/plain": [
       "((4, 12), 0.5071267816954238)"
      ]
     },
     "execution_count": 111,
     "metadata": {},
     "output_type": "execute_result"
    }
   ],
   "source": [
    "max(params, key = operator.itemgetter(1))"
   ]
  },
  {
   "cell_type": "code",
   "execution_count": 113,
   "id": "744464fb-0881-41fa-b0fd-0157ad02de6e",
   "metadata": {},
   "outputs": [
    {
     "data": {
      "image/png": "[encoded data removed]",
      "text/plain": [
       "<Figure size 640x480 with 1 Axes>"
      ]
     },
     "metadata": {},
     "output_type": "display_data"
    }
   ],
   "source": [
    "clf = DecisionTreeClassifier(max_depth = 2, max_leaf_nodes = 4).fit(X_train, y_train)\n",
    "sklearn.tree.plot_tree(clf)\n",
    "plt.show()"
   ]
  },
  {
   "cell_type": "markdown",
   "id": "d1afaa4c-885d-499d-ac35-18ddd4b94540",
   "metadata": {},
   "source": [
    "### AdaBoost"
   ]
  },
  {
   "cell_type": "code",
   "execution_count": 115,
   "id": "47002233-9586-41e1-aea3-9f08f8437c27",
   "metadata": {},
   "outputs": [
    {
     "name": "stderr",
     "output_type": "stream",
     "text": [
      "C:\\Users\\devan\\anaconda3\\Lib\\site-packages\\sklearn\\ensemble\\_weight_boosting.py:527: FutureWarning: The SAMME.R algorithm (the default) is deprecated and will be removed in 1.6. Use the SAMME algorithm to circumvent this warning.\n",
      "  warnings.warn(\n"
     ]
    }
   ],
   "source": [
    "ada = AdaBoostClassifier(estimator = clf).fit(X_train, y_train)\n",
    "yhat_ada = ada.predict(X_test)"
   ]
  },
  {
   "cell_type": "code",
   "execution_count": 117,
   "id": "fab85739-e36a-44e2-96d2-ed517b1c6a15",
   "metadata": {},
   "outputs": [
    {
     "data": {
      "text/plain": [
       "0.5183795948987246"
      ]
     },
     "execution_count": 117,
     "metadata": {},
     "output_type": "execute_result"
    }
   ],
   "source": [
    "accuracy_score(yhat_ada, y_test)"
   ]
  },
  {
   "cell_type": "code",
   "execution_count": 119,
   "id": "1bb04d2a-dafe-47f2-8ebc-d66d7beb32d6",
   "metadata": {},
   "outputs": [],
   "source": [
    "def ada_boost_acc():\n",
    "    estimators = range(1,300,10)\n",
    "    learning_rates = [3 + i * -0.2 for i in range(10)]\n",
    "    acc = []\n",
    "    for e in estimators:\n",
    "        for l in learning_rates:\n",
    "            classifier = AdaBoostClassifier(estimator = clf, n_estimators = e, learning_rate = l, algorithm = 'SAMME').fit(X_train, y_train)\n",
    "            acc.append(((e,l), accuracy_score(classifier.predict(X_test), y_test)))\n",
    "    return max(acc, key = operator.itemgetter(1))"
   ]
  },
  {
   "cell_type": "code",
   "execution_count": 121,
   "id": "0acf33e2-18b2-47c2-9cf9-51f9eed1693b",
   "metadata": {},
   "outputs": [
    {
     "data": {
      "text/plain": [
       "((281, 1.4), 0.5198799699924981)"
      ]
     },
     "execution_count": 121,
     "metadata": {},
     "output_type": "execute_result"
    }
   ],
   "source": [
    "ada_boost_acc()"
   ]
  },
  {
   "cell_type": "markdown",
   "id": "b9565403-5e13-4f48-b3f2-cafc6d2949f2",
   "metadata": {},
   "source": [
    "### Random Forest Classifier"
   ]
  },
  {
   "cell_type": "code",
   "execution_count": 124,
   "id": "62961fb2-2283-4777-b802-9ba501e7248d",
   "metadata": {},
   "outputs": [],
   "source": [
    "rf = RandomForestClassifier().fit(X_train, y_train)\n",
    "yhat_rf = rf.predict(X_test)"
   ]
  },
  {
   "cell_type": "code",
   "execution_count": 126,
   "id": "b7a726bc-65d5-4721-9300-3c70a6834b98",
   "metadata": {},
   "outputs": [
    {
     "data": {
      "text/plain": [
       "0.495873968492123"
      ]
     },
     "execution_count": 126,
     "metadata": {},
     "output_type": "execute_result"
    }
   ],
   "source": [
    "accuracy_score(yhat_rf, y_test)"
   ]
  },
  {
   "cell_type": "code",
   "execution_count": 128,
   "id": "42e33c23-734e-441a-8f9e-a978423e83a8",
   "metadata": {},
   "outputs": [],
   "source": [
    "def rf_acc():\n",
    "    estimators = range(1, 300, 10)\n",
    "    max_depth = range(12, 1, -1)\n",
    "    min_samples_split = range(2, 10, 1)\n",
    "    acc = []\n",
    "    for e in estimators:\n",
    "        for d in max_depth:\n",
    "            for m in min_samples_split:\n",
    "                model = RandomForestClassifier(n_estimators = e, max_depth = d, min_samples_split = m).fit(X_train, y_train)\n",
    "                acc.append(((e, d, m), accuracy_score(model.predict(X_test), y_test)))\n",
    "    return max(acc, key = operator.itemgetter(1))"
   ]
  },
  {
   "cell_type": "code",
   "execution_count": 130,
   "id": "dbb7b042-ac04-4fc6-a7c4-c9d29a3a7842",
   "metadata": {},
   "outputs": [
    {
     "data": {
      "text/plain": [
       "((211, 10, 7), 0.5461365341335334)"
      ]
     },
     "execution_count": 130,
     "metadata": {},
     "output_type": "execute_result"
    }
   ],
   "source": [
    "rf_acc()"
   ]
  },
  {
   "cell_type": "code",
   "execution_count": 140,
   "id": "ac430a6d-b68d-4b42-b0d4-4d79e8df1600",
   "metadata": {},
   "outputs": [
    {
     "data": {
      "text/plain": [
       "0.5371342835708928"
      ]
     },
     "execution_count": 140,
     "metadata": {},
     "output_type": "execute_result"
    }
   ],
   "source": [
    "rf = RandomForestClassifier(n_estimators = 212, max_depth = 11, min_samples_split = 8).fit(X_train, y_train)\n",
    "yhat_rf = rf.predict(X_test)\n",
    "rf_acc = accuracy_score(yhat_rf, y_test)\n",
    "rf_acc"
   ]
  },
  {
   "cell_type": "markdown",
   "id": "f6136254-ffb1-4c93-96e2-ab5af915f32a",
   "metadata": {},
   "source": [
    "The Random Forest model performed the best out of the 4 tried. Through tuning of the respective models, we were able to achieve accuracy scores of 51-55 percent. Though this is far from perfect, this is a good start using supervised learning techniques. To improve upon this work, I would implement PCA in order to reduce the dimensionality of the data, then employ a heirarchical clustering method to better assign the data to a fixed number of categories. However, with the tools at my disposal in this supervised learning exercise, I am happy with how the models performed."
   ]
  }
 ],
 "metadata": {
  "kernelspec": {
   "display_name": "Python 3 (ipykernel)",
   "language": "python",
   "name": "python3"
  },
  "language_info": {
   "codemirror_mode": {
    "name": "ipython",
    "version": 3
   },
   "file_extension": ".py",
   "mimetype": "text/x-python",
   "name": "python",
   "nbconvert_exporter": "python",
   "pygments_lexer": "ipython3",
   "version": "3.11.5"
  }
 },
 "nbformat": 4,
 "nbformat_minor": 5
}
